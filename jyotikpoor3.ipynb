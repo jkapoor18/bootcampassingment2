{
 "cells": [
  {
   "cell_type": "markdown",
   "id": "7a3b7695",
   "metadata": {},
   "source": [
    "# Q1. Why are functions advantageous to have in your programs?"
   ]
  },
  {
   "cell_type": "raw",
   "id": "335d384b",
   "metadata": {},
   "source": [
    "The advantages of functions to have in programs are:\n",
    "*Avoid repetition of codes.\n",
    "*Increases program readability.\n",
    "*Divide a complex problem into simpler ones.\n",
    "*Reduces chances of error.\n",
    "*Modifying a program becomes easier by using function."
   ]
  },
  {
   "cell_type": "markdown",
   "id": "f9862d3a",
   "metadata": {},
   "source": [
    "# Q2. What statement creates a function?"
   ]
  },
  {
   "cell_type": "raw",
   "id": "2e5fb4a0",
   "metadata": {},
   "source": [
    "Function blocks begin with the keyword def followed by the function name and parentheses ( ( ) )\n",
    "\n",
    "Any input parameters or arguments should be placed within these parentheses. You can also define parameters inside these parentheses.\n",
    "\n",
    "The first statement of a function can be an optional statement - the documentation string of the function or docstring.\n",
    "\n",
    "The code block within every function starts with a colon (:) and is indented.\n",
    "\n",
    "The statement return [expression] exits a function, optionally passing back an expression to the caller. A return statement with no arguments is the same as return None."
   ]
  },
  {
   "cell_type": "markdown",
   "id": "39d0cf2c",
   "metadata": {},
   "source": [
    "# Q3. What is the difference between a function and a function call?"
   ]
  },
  {
   "cell_type": "raw",
   "id": "a78a8948",
   "metadata": {},
   "source": [
    "A function is a block of code that does a particular operation and returns a result. It usually accepts inputs as parameters and returns a result. The parameters are not mandatory.\n",
    "\n",
    "E.g:\n",
    "Function add(a,b)\n",
    "return a + b\n",
    "\n",
    "A function call is the code used to pass control to a function.\n",
    "\n",
    "E.g.:\n",
    "\n",
    "b = add(5,6)\n",
    "\n",
    "Now b will have the value 11."
   ]
  },
  {
   "cell_type": "markdown",
   "id": "6211ffbf",
   "metadata": {},
   "source": [
    "# Q4. How many global scopes are there in a Python program? How many local scopes?"
   ]
  },
  {
   "cell_type": "raw",
   "id": "b470e8bc",
   "metadata": {},
   "source": [
    "There is one global scope, and a local scope is created whenever a function is called."
   ]
  },
  {
   "cell_type": "markdown",
   "id": "cd9027c8",
   "metadata": {},
   "source": [
    "# Q5. What happens to variables in a local scope when the function call returns? "
   ]
  },
  {
   "cell_type": "raw",
   "id": "46b40d6a",
   "metadata": {},
   "source": [
    "When a function returns, the local scope is destroyed, and all the variables in it are forgotten."
   ]
  },
  {
   "cell_type": "markdown",
   "id": "50b4b794",
   "metadata": {},
   "source": [
    "# Q6. What is the concept of a return value? Is it possible to have a return value in an expression?"
   ]
  },
  {
   "cell_type": "raw",
   "id": "131fb061",
   "metadata": {},
   "source": [
    "A return value is the value that a function call evaluates to. Like any value, a return value can be used as part of an expression."
   ]
  },
  {
   "cell_type": "markdown",
   "id": "8624f5ac",
   "metadata": {},
   "source": [
    "# Q7. If a function does not have a return statement, what is the return value of a call to that function?"
   ]
  },
  {
   "cell_type": "raw",
   "id": "a45dc15e",
   "metadata": {},
   "source": [
    "If there is no return statement for a function, its return value is None."
   ]
  },
  {
   "cell_type": "markdown",
   "id": "5cd19ccf",
   "metadata": {},
   "source": [
    "# Q8. How do you make a function variable refer to the global variable?"
   ]
  },
  {
   "cell_type": "raw",
   "id": "64ad4fe5",
   "metadata": {},
   "source": [
    "A global statement will force a variable in a function to refer to the global variable."
   ]
  },
  {
   "cell_type": "markdown",
   "id": "68c50321",
   "metadata": {},
   "source": [
    "# Q9. What is the data type of None?"
   ]
  },
  {
   "cell_type": "raw",
   "id": "302b95f1",
   "metadata": {},
   "source": [
    "The data type of None is NoneType."
   ]
  },
  {
   "cell_type": "markdown",
   "id": "747dc480",
   "metadata": {},
   "source": [
    "# Q10. What does the sentence import areallyourpetsnamederic do?"
   ]
  },
  {
   "cell_type": "raw",
   "id": "16f4c7f4",
   "metadata": {},
   "source": [
    "That import statement imports a module named areallyourpetsnamederic."
   ]
  },
  {
   "cell_type": "markdown",
   "id": "9d72a564",
   "metadata": {},
   "source": [
    "# Q11. If you had a bacon() feature in a spam module, what would you call it after importing spam?"
   ]
  },
  {
   "cell_type": "raw",
   "id": "04e34408",
   "metadata": {},
   "source": [
    "This function can be called with spam.bacon()."
   ]
  },
  {
   "cell_type": "markdown",
   "id": "0430fe6a",
   "metadata": {},
   "source": [
    "# Q12. What can you do to save a programme from crashing if it encounters an error?"
   ]
  },
  {
   "cell_type": "raw",
   "id": "3e00e4e9",
   "metadata": {},
   "source": [
    "Place the line of code that might cause an error in a try clause."
   ]
  },
  {
   "cell_type": "markdown",
   "id": "2c4d9082",
   "metadata": {},
   "source": [
    "# Q13. What is the purpose of the try clause? What is the purpose of the except clause?"
   ]
  },
  {
   "cell_type": "raw",
   "id": "1a0e3e31",
   "metadata": {},
   "source": [
    "The code that could potentially cause an error goes in the try clause.\n",
    "\n",
    "The code that executes if an error happens goes in the except clause."
   ]
  },
  {
   "cell_type": "code",
   "execution_count": null,
   "id": "f3430cd5",
   "metadata": {},
   "outputs": [],
   "source": []
  }
 ],
 "metadata": {
  "kernelspec": {
   "display_name": "Python 3 (ipykernel)",
   "language": "python",
   "name": "python3"
  },
  "language_info": {
   "codemirror_mode": {
    "name": "ipython",
    "version": 3
   },
   "file_extension": ".py",
   "mimetype": "text/x-python",
   "name": "python",
   "nbconvert_exporter": "python",
   "pygments_lexer": "ipython3",
   "version": "3.9.12"
  }
 },
 "nbformat": 4,
 "nbformat_minor": 5
}
